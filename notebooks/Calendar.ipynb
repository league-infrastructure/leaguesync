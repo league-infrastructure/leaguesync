{
 "cells": [
  {
   "cell_type": "code",
   "execution_count": 2,
   "id": "c30c3624-6bc8-4133-bda2-83b2466fb05a",
   "metadata": {},
   "outputs": [
    {
     "name": "stdout",
     "output_type": "stream",
     "text": [
      "The autoreload extension is already loaded. To reload it, use:\n",
      "  %reload_ext autoreload\n"
     ]
    }
   ],
   "source": [
    "%load_ext autoreload\n",
    "%autoreload 2\n"
   ]
  },
  {
   "cell_type": "code",
   "execution_count": null,
   "id": "27bbad18-4cc6-416a-a6d6-ad1849536b47",
   "metadata": {},
   "outputs": [],
   "source": [
    "#!pip install --upgrade google-api-python-client google-auth-httplib2 google-auth-oauthlib\n"
   ]
  },
  {
   "cell_type": "code",
   "execution_count": 49,
   "id": "b5acd547-b114-46c3-8296-9e57f9535dd6",
   "metadata": {},
   "outputs": [],
   "source": [
    "import datetime\n",
    "import os.path\n",
    "\n",
    "from leaguesync.util import get_config\n",
    "\n",
    "from leaguesync.calendar import * \n",
    "\n",
    "from leaguesync import * \n",
    "from leaguesync.calendar import logger\n",
    "from leaguesync.calendar import Calendar\n",
    "import logging\n",
    "\n",
    "logging.basicConfig()\n",
    "logger.setLevel(logging.DEBUG)\n",
    "\n",
    "from tqdm.auto import tqdm\n",
    "\n",
    "import warnings\n",
    "\n",
    "p13 = Pike13('./league-remote.env')\n",
    "\n",
    "pdf = Pike13DataFrames(p13)\n",
    "\n",
    "config = get_config('./league-remote.env')\n",
    "cv_cal_id = config['GA_CLASSES_CAL_CV']\n",
    "ncv_cal_id = config['GA_CLASSES_CAL_NOTCV']\n",
    "vl_cal_id=config['GA_CLASSES_CAL_VL']\n"
   ]
  },
  {
   "cell_type": "code",
   "execution_count": 47,
   "id": "50b41c44-9f17-45e8-bd47-c31ac56b1517",
   "metadata": {},
   "outputs": [
    {
     "name": "stderr",
     "output_type": "stream",
     "text": [
      "DEBUG:leaguesync.calendar:Got 792 events from Pike13\n",
      "DEBUG:leaguesync.calendar:Got 0 events from Google Calendar\n",
      "DEBUG:leaguesync.calendar:Got 0 events in both Pike13 and Google Calendar\n",
      "DEBUG:leaguesync.calendar:Got 792 events in Pike13 only\n",
      "DEBUG:leaguesync.calendar:Got 0 events in Google Calendar only\n"
     ]
    }
   ],
   "source": [
    "cal = Calendar('./league-remote.env', location=\"CV\", cal_id=cv_cal_id)\n",
    "cal.update(p13)"
   ]
  },
  {
   "cell_type": "code",
   "execution_count": 60,
   "id": "42c4ade4-6a2f-498a-b019-f17fa5303f58",
   "metadata": {},
   "outputs": [
    {
     "name": "stderr",
     "output_type": "stream",
     "text": [
      "DEBUG:leaguesync.calendar:Got 35 events from Pike13\n",
      "DEBUG:leaguesync.calendar:Got 0 events from Google Calendar\n",
      "DEBUG:leaguesync.calendar:Got 0 events in both Pike13 and Google Calendar\n",
      "DEBUG:leaguesync.calendar:Got 35 events in Pike13 only\n",
      "DEBUG:leaguesync.calendar:Got 0 events in Google Calendar only\n"
     ]
    }
   ],
   "source": [
    "def event_f(e):\n",
    "    \"\"\"Return true if this event should be included in the non-CV calendar, which is actually\n",
    "    not CV, and not Virtual\"\"\"\n",
    "\n",
    "    return Calendar.is_location(e, '!CV') and Calendar.is_location(e, '!VL')\n",
    "\n",
    "ncal = Calendar('./league-remote.env', event_f=event_f, cal_id=ncv_cal_id)\n",
    "ncal.update()\n"
   ]
  },
  {
   "cell_type": "code",
   "execution_count": null,
   "id": "f1119a89-105e-424a-a8fc-1761fc156172",
   "metadata": {},
   "outputs": [],
   "source": [
    "vlcal = Calendar('./league-remote.env', location=\"VL\", cal_id=vl_cal_id)\n",
    "vlcal.update(p13)"
   ]
  },
  {
   "cell_type": "code",
   "execution_count": 56,
   "id": "1cc9fd0a-99b0-4f64-ada6-2c38851a9f48",
   "metadata": {},
   "outputs": [
    {
     "data": {
      "application/vnd.jupyter.widget-view+json": {
       "model_id": "fd8b759b9916427ba110d38cc74da173",
       "version_major": 2,
       "version_minor": 0
      },
      "text/plain": [
       "  0%|          | 0/584 [00:00<?, ?it/s]"
      ]
     },
     "metadata": {},
     "output_type": "display_data"
    },
    {
     "data": {
      "text/plain": [
       "584"
      ]
     },
     "execution_count": 56,
     "metadata": {},
     "output_type": "execute_result"
    }
   ],
   "source": [
    "ncal = Calendar('./league-remote.env', cal_id=ncv_cal_id)\n",
    "#ncal.delete_events(progress=True)"
   ]
  },
  {
   "cell_type": "code",
   "execution_count": 115,
   "id": "36576586-bb04-4296-a2e6-2b155f912667",
   "metadata": {},
   "outputs": [
    {
     "name": "stderr",
     "output_type": "stream",
     "text": [
      "DEBUG:leaguesync.calendar:Got 35 events from Pike13\n",
      "DEBUG:leaguesync.calendar:Got 35 events from Google Calendar\n"
     ]
    }
   ],
   "source": [
    "ncal.update_events()"
   ]
  },
  {
   "cell_type": "code",
   "execution_count": 116,
   "id": "f19eafb2-f0ae-4016-a980-8b53a19338d3",
   "metadata": {},
   "outputs": [],
   "source": [
    "cale = ncal.events"
   ]
  },
  {
   "cell_type": "code",
   "execution_count": 117,
   "id": "e9679793-4c69-4534-aca2-a1c9a3d22f60",
   "metadata": {},
   "outputs": [
    {
     "data": {
      "text/plain": [
       "'\\n<a href=\"https://jtl.pike13.com/group_classes/181633\">Java@HHS</a> at Hoover High School (HHS)<br>\\nAll Virtual Classes<br>\\n\\n    '"
      ]
     },
     "execution_count": 117,
     "metadata": {},
     "output_type": "execute_result"
    }
   ],
   "source": [
    "e = ncal.get_event('hsmvd3t4s7ns6ir394jhkknn8k')\n",
    "e['description']\n"
   ]
  },
  {
   "cell_type": "code",
   "execution_count": 114,
   "id": "6c299869-44be-4aa7-b9f7-fd035b53a1cd",
   "metadata": {},
   "outputs": [
    {
     "data": {
      "text/plain": [
       "'<a href=\"https://jtl.pike13.com/group_classes/181633\">Java@HHS</a> at Hoover High School (HHS)'"
      ]
     },
     "execution_count": 114,
     "metadata": {},
     "output_type": "execute_result"
    }
   ],
   "source": [
    "e = ncal.get_event('hsmvd3t4s7ns6ir394jhkknn8k')\n",
    "e['description']"
   ]
  },
  {
   "cell_type": "code",
   "execution_count": null,
   "id": "01b3288c-7d44-4926-a266-a41382f33542",
   "metadata": {},
   "outputs": [],
   "source": [
    "for e, prv in cale:\n",
    "    print(e['summary'], e['start'], e['description'])"
   ]
  },
  {
   "cell_type": "code",
   "execution_count": 77,
   "id": "b658de62-bbd2-4d0b-9f71-f53c14b46dff",
   "metadata": {},
   "outputs": [
    {
     "data": {
      "text/plain": [
       "{'kind': 'calendar#event',\n",
       " 'etag': '\"3413705039132000\"',\n",
       " 'id': 'b8gseo84ggpi3tspsd1eodc3uk',\n",
       " 'status': 'confirmed',\n",
       " 'htmlLink': 'https://www.google.com/calendar/event?eid=Yjhnc2VvODRnZ3BpM3RzcHNkMWVvZGMzdWsgY18zNjllZmI0MThhNjdlYTZkNTkwNjIwNTQ3YTUzYzUyMzdhNDg3NzNkZjA2ZWFhZjQ2ZWJhZWQzZmUzMmRiODI3QGc',\n",
       " 'created': '2024-02-02T02:29:40.000Z',\n",
       " 'updated': '2024-02-02T05:41:59.566Z',\n",
       " 'summary': 'Java@LH',\n",
       " 'description': '<p><a href=\"https://jtl.pike13.com/group_classes/213851\">Java@LH</a> at <b>LINCOLN HIGH SCHOOL</b><br><br></p><p>All Virtual Classes<br><br>\\xa0\\xa0\\xa0\\xa0</p>',\n",
       " 'colorId': '1',\n",
       " 'creator': {'email': 'gapps-integrations-sa@gapps-integrations.iam.gserviceaccount.com'},\n",
       " 'organizer': {'email': 'c_369efb418a67ea6d590620547a53c5237a48773df06eaaf46ebaed3fe32db827@group.calendar.google.com',\n",
       "  'displayName': 'Classes !CV',\n",
       "  'self': True},\n",
       " 'start': {'dateTime': '2024-01-29T15:30:00-08:00',\n",
       "  'timeZone': 'America/Los_Angeles'},\n",
       " 'end': {'dateTime': '2024-01-29T17:00:00-08:00',\n",
       "  'timeZone': 'America/Los_Angeles'},\n",
       " 'iCalUID': 'b8gseo84ggpi3tspsd1eodc3uk@google.com',\n",
       " 'sequence': 0,\n",
       " 'extendedProperties': {'private': {'event_id': '13293124',\n",
       "   'state': 'active',\n",
       "   'event_occ_id': '223311271'}},\n",
       " 'reminders': {'useDefault': True},\n",
       " 'eventType': 'default'}"
      ]
     },
     "execution_count": 77,
     "metadata": {},
     "output_type": "execute_result"
    }
   ],
   "source": [
    "e"
   ]
  },
  {
   "cell_type": "code",
   "execution_count": null,
   "id": "f6aba0ba-2dca-4165-be7c-41e3d6b3123d",
   "metadata": {},
   "outputs": [],
   "source": []
  }
 ],
 "metadata": {
  "kernelspec": {
   "display_name": "Python 3 (ipykernel)",
   "language": "python",
   "name": "python3"
  },
  "language_info": {
   "codemirror_mode": {
    "name": "ipython",
    "version": 3
   },
   "file_extension": ".py",
   "mimetype": "text/x-python",
   "name": "python",
   "nbconvert_exporter": "python",
   "pygments_lexer": "ipython3",
   "version": "3.11.7"
  }
 },
 "nbformat": 4,
 "nbformat_minor": 5
}
