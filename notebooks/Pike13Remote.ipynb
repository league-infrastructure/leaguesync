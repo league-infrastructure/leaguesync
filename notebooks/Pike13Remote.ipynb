{
 "cells": [
  {
   "cell_type": "code",
   "execution_count": 1,
   "id": "9355872d-544f-40ea-8663-65159c79f16d",
   "metadata": {},
   "outputs": [
    {
     "name": "stderr",
     "output_type": "stream",
     "text": [
      "INFO:leaguesync.pike13:Updating Pike13 data\n",
      "DEBUG:leaguesync.pike13:Updating people, since 2024-02-05 09:33:36+00:00\n",
      "DEBUG:leaguesync.pike13:Found 0 updated people\n",
      "DEBUG:leaguesync.pike13:Updating event occurrances since 2024-05-31 00:00:00+00:00\n",
      "DEBUG:leaguesync.pike13:Updating visits, since 2024-02-04 19:30:00+00:00\n",
      "INFO:leaguesync.pike13:Loaded 9 recent event occurances to look for new visits\n",
      "DEBUG:leaguesync.pike13:Upserted 0  docs\n",
      "DEBUG:leaguesync.pike13:1853 event occs, 1901 events, 0 remain\n",
      "DEBUG:leaguesync.pike13:Upserted 0  docs\n"
     ]
    }
   ],
   "source": [
    "%load_ext autoreload\n",
    "%autoreload 2\n",
    "    \n",
    "from leaguesync import * \n",
    "from leaguesync.pike13 import logger\n",
    "import logging\n",
    "\n",
    "logging.basicConfig()\n",
    "logger.setLevel(logging.DEBUG)\n",
    "\n",
    "p13 = Pike13('./league-remote.env')\n",
    "\n",
    "p13.update()"
   ]
  },
  {
   "cell_type": "code",
   "execution_count": null,
   "id": "e876eb04-4910-42d1-842b-128ae705349f",
   "metadata": {},
   "outputs": [],
   "source": []
  },
  {
   "cell_type": "code",
   "execution_count": null,
   "id": "ae629130-e973-4f1a-8625-940edb485940",
   "metadata": {},
   "outputs": [],
   "source": []
  }
 ],
 "metadata": {
  "kernelspec": {
   "display_name": "Python 3 (ipykernel)",
   "language": "python",
   "name": "python3"
  },
  "language_info": {
   "codemirror_mode": {
    "name": "ipython",
    "version": 3
   },
   "file_extension": ".py",
   "mimetype": "text/x-python",
   "name": "python",
   "nbconvert_exporter": "python",
   "pygments_lexer": "ipython3",
   "version": "3.11.7"
  }
 },
 "nbformat": 4,
 "nbformat_minor": 5
}
