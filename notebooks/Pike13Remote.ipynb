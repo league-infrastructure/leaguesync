{
 "cells": [
  {
   "cell_type": "code",
   "execution_count": 1,
   "id": "9355872d-544f-40ea-8663-65159c79f16d",
   "metadata": {},
   "outputs": [
    {
     "name": "stderr",
     "output_type": "stream",
     "text": [
      "/Users/eric/proj/league-projects/leaguesync/.venv/lib/python3.11/site-packages/tqdm/auto.py:21: TqdmWarning: IProgress not found. Please update jupyter and ipywidgets. See https://ipywidgets.readthedocs.io/en/stable/user_install.html\n",
      "  from .autonotebook import tqdm as notebook_tqdm\n",
      "INFO:leaguesync.pike13:Updating Pike13 data\n",
      "DEBUG:leaguesync.pike13:Updating people, since 2024-03-10 00:36:12+00:00\n",
      "DEBUG:leaguesync.pike13:Found 345 updated people\n",
      "INFO:leaguesync.pike13:People collection is not empty, upserting\n",
      "DEBUG:leaguesync.pike13:Updating event occurrances since 2024-06-30 01:00:00+00:00\n",
      "INFO:leaguesync.pike13:Getting event occurances from 2024-06-30 00:00:00+00:00 to 2024-07-30 01:00:00+00:00\n",
      "INFO:leaguesync.pike13:Found 305 new event occurrancess\n",
      "DEBUG:leaguesync.pike13:Updating visits, since 2024-03-09 22:30:00+00:00\n",
      "INFO:leaguesync.pike13:Loaded 196 recent event occurances to look for new visits\n",
      "DEBUG:leaguesync.pike13:Upserted 0  docs\n",
      "DEBUG:leaguesync.pike13:1882 event occs, 1909 events, 25 remain\n",
      "DEBUG:leaguesync.pike13:Inserted 25 new docs\n",
      "DEBUG:leaguesync.pike13:Upserted 0  docs\n"
     ]
    }
   ],
   "source": [
    "%load_ext autoreload\n",
    "%autoreload 2\n",
    "    \n",
    "from leaguesync import * \n",
    "from leaguesync.pike13 import logger\n",
    "import logging\n",
    "\n",
    "logging.basicConfig()\n",
    "logger.setLevel(logging.DEBUG)\n",
    "\n",
    "p13 = Pike13('./league-remote.env')\n",
    "\n",
    "p13.update()"
   ]
  },
  {
   "cell_type": "code",
   "execution_count": null,
   "id": "e876eb04-4910-42d1-842b-128ae705349f",
   "metadata": {},
   "outputs": [],
   "source": []
  },
  {
   "cell_type": "code",
   "execution_count": null,
   "id": "ae629130-e973-4f1a-8625-940edb485940",
   "metadata": {},
   "outputs": [],
   "source": []
  }
 ],
 "metadata": {
  "kernelspec": {
   "display_name": "Python 3 (ipykernel)",
   "language": "python",
   "name": "python3"
  },
  "language_info": {
   "codemirror_mode": {
    "name": "ipython",
    "version": 3
   },
   "file_extension": ".py",
   "mimetype": "text/x-python",
   "name": "python",
   "nbconvert_exporter": "python",
   "pygments_lexer": "ipython3",
   "version": "3.11.6"
  }
 },
 "nbformat": 4,
 "nbformat_minor": 5
}
