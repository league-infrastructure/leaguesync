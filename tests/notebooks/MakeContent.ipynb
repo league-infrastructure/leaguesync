{
 "cells": [
  {
   "cell_type": "code",
   "execution_count": 3,
   "id": "bfd0fbea-df3c-4c72-bfd7-28137dcff879",
   "metadata": {},
   "outputs": [],
   "source": [
    "# Import the Canvas class\n",
    "from canvasapi import Canvas\n",
    "from dotenv import load_dotenv, dotenv_values\n",
    "import os\n",
    "from pathlib import Path\n",
    "\n"
   ]
  },
  {
   "cell_type": "code",
   "execution_count": 4,
   "id": "a4d1748d-86c4-43f1-9592-9f1f1f9a97ec",
   "metadata": {},
   "outputs": [],
   "source": [
    "config = {\n",
    "    **dotenv_values(Path.home().joinpath('.league.env')),\n",
    "    **os.environ,  # override loaded values with environment variables\n",
    "}\n"
   ]
  },
  {
   "cell_type": "code",
   "execution_count": 5,
   "id": "e74bd8ed-23ca-4cda-9e76-f8e6c72db099",
   "metadata": {},
   "outputs": [
    {
     "data": {
      "text/plain": [
       "Account(_requester=<canvasapi.requester.Requester object at 0x110f99b50>, id=1, name=The LEAGUE of Amazing Programmers, workflow_state=active, parent_account_id=None, root_account_id=None, uuid=l6vMi9MJPdLa8eTl7sJIZb45AqJWkohN73Bn64Ar, default_storage_quota_mb=500, default_user_storage_quota_mb=50, default_group_storage_quota_mb=50, default_time_zone=America/Denver, course_template_id=None)"
      ]
     },
     "execution_count": 5,
     "metadata": {},
     "output_type": "execute_result"
    }
   ],
   "source": [
    "# Canvas API URL\n",
    "API_URL = config['CANVAS_API_URL']\n",
    "# Canvas API key\n",
    "API_KEY = config['CANVAS_API_KEY']\n",
    "\n",
    "# Initialize a new Canvas object\n",
    "canvas = Canvas(API_URL, API_KEY)\n",
    "\n",
    "account = canvas.get_account(1) # The league main account\n",
    "account\n"
   ]
  },
  {
   "cell_type": "code",
   "execution_count": 27,
   "id": "84e73e22-daad-4619-a3ec-e85aee36e74b",
   "metadata": {},
   "outputs": [
    {
     "data": {
      "text/plain": [
       "AuthenticationProvider(_requester=<canvasapi.requester.Requester object at 0x110f99b50>, id=105, auth_type=github, position=2, mfa_required=False, skip_internal_mfa=False, login_attribute=login, jit_provisioning=True, federated_attributes={'display_name': {'attribute': 'name', 'provisioning_only': False}, 'email': {'attribute': 'email', 'provisioning_only': False}, 'integration_id': {'attribute': 'id', 'provisioning_only': False}, 'sis_user_id': {'attribute': 'login', 'provisioning_only': False}}, account_id=1)"
      ]
     },
     "execution_count": 27,
     "metadata": {},
     "output_type": "execute_result"
    }
   ],
   "source": [
    "github_ap = next(a for a in account.get_authentication_providers() if a.auth_type == 'github')\n",
    "github_ap"
   ]
  },
  {
   "cell_type": "code",
   "execution_count": 21,
   "id": "7e1757e0-75f7-40d8-b11c-16a31ed2e076",
   "metadata": {},
   "outputs": [
    {
     "name": "stdout",
     "output_type": "stream",
     "text": [
      "97 Conditional Release API (97)\n",
      "96 Outcomes Service API (96)\n",
      "198 Quizzes.Next Service API (198)\n",
      "256 bbobson (256)\n",
      "212 beckham.kunkler@jointheleague.org (212)\n",
      "213 brandon.hatamoto@jointheleague.org (213)\n",
      "214 bronte.kunkler@jointheleague.org (214)\n",
      "252 Max Busboom (252)\n",
      "199 Sarah Cooper (199)\n",
      "215 daniel.goldstein@jointheleague.org (215)\n",
      "224 derekcao (224)\n",
      "217 dexter.haehnichen@jointheleague.org (217)\n",
      "246 eric.busboom@jointheleague.org (246)\n",
      "255 ericbusboom (255)\n",
      "207 Matt Freedman (207)\n",
      "201 Keith Groves (201)\n",
      "200 Liz Groves (200)\n",
      "218 jack.sturman@jointheleague.org (218)\n",
      "222 jessicaluo (222)\n",
      "223 jordanluo (223)\n",
      "253 JTiu11 (253)\n",
      "227 Keith (227)\n",
      "219 millan.kumar@jointheleague.org (219)\n",
      "204 Cody Sauer (204)\n",
      "211 Cody Saver (211)\n",
      "226 Colby Schexnayder (226)\n",
      "208 Jackie Talbot (208)\n",
      "248  Joanne Tiu (248)\n"
     ]
    }
   ],
   "source": [
    "users = list(account.get_users())\n",
    "for u in users:\n",
    "    print(u.id, u)"
   ]
  },
  {
   "cell_type": "code",
   "execution_count": 22,
   "id": "31b6183f-b1c9-4ca3-87f9-908b8b46aa02",
   "metadata": {},
   "outputs": [
    {
     "name": "stdout",
     "output_type": "stream",
     "text": [
      "bbobson (256)\n",
      "\n"
     ]
    },
    {
     "data": {
      "text/plain": [
       "[Login(_requester=<canvasapi.requester.Requester object at 0x110f99b50>, id=236, user_id=256, account_id=1, workflow_state=active, unique_id=bbobson, created_at=2024-01-04T04:41:28Z, created_at_date=2024-01-04 04:41:28+00:00, sis_user_id=bbobson, integration_id=44064260, authentication_provider_id=105, declared_user_type=None, authentication_provider_type=github)]"
      ]
     },
     "execution_count": 22,
     "metadata": {},
     "output_type": "execute_result"
    }
   ],
   "source": [
    "u = canvas.get_user(256)\n",
    "print(u)\n",
    "print()\n",
    "list(u.get_user_logins())"
   ]
  },
  {
   "cell_type": "code",
   "execution_count": 16,
   "id": "6de1f801-273f-4351-970e-33394d22e0ba",
   "metadata": {},
   "outputs": [],
   "source": [
    "for c in account.get_courses():\n",
    "    if c.course_code.startswith('java-l'):\n",
    "        for a in c.get_assignments():\n",
    "            if a.description: # and 'iframe' in a.description:\n",
    "                pass #print(a.description)\n",
    "      "
   ]
  },
  {
   "cell_type": "code",
   "execution_count": null,
   "id": "057be334-f42c-4da4-afd0-badd0a9e1b88",
   "metadata": {},
   "outputs": [],
   "source": [
    "for c in account.get_courses():\n",
    "    if c.course_code.startswith('java-l'):\n",
    "        for p in c.get_pages():\n",
    "            body = c.get_page(p.url).body\n",
    "            if 'iframe' in body:\n",
    "                print(body)"
   ]
  },
  {
   "cell_type": "code",
   "execution_count": 46,
   "id": "212e4d04-a65e-4234-9e32-7f4e6336e261",
   "metadata": {},
   "outputs": [],
   "source": [
    "instructure_users = []\n",
    "for user in  account.get_users():\n",
    "    prfl = user.get_profile()\n",
    "    if 'instructure' in (prfl['primary_email'] or \"\"):\n",
    "        instructure_users.append( (user, prfl))\n"
   ]
  },
  {
   "cell_type": "code",
   "execution_count": 52,
   "id": "455cb1f5-1e2e-4469-af0a-0317fcd2e634",
   "metadata": {},
   "outputs": [
    {
     "name": "stdout",
     "output_type": "stream",
     "text": [
      "Mattie Fernandez sdemo+MattieFernandez@instructure.com\n",
      "Taylor Hazzard sdemo+thazzard@instructure.com\n",
      "Viola Ingram sdemo+ViolaIngram@instructure.com\n",
      "Aaron Jurel sdemo+ajurel@instructure.com\n",
      "George Kasabian sdemo+gkasabian@instructure.com\n",
      "Jonathan Kim sdemo+JonathanKim@instructure.com\n",
      "Jin Kwon sdemo+jkwon@instructure.com\n",
      "Megan Lange sdemo+mlange@instructure.com\n",
      "Beatrice Lund sdemo+blund@instructure.com\n",
      "Kristina Lundsford sdemo+KristinaLundsford@instructure.com\n",
      "Greg Lyons glyons+admin@instructure.com\n",
      "Tasha Mandachit sdemo+TashaMandachit@instructure.com\n",
      "Monica Martinez sdemo+MonicaMartinez@instructure.com\n",
      "Greg McCully sdemo+gmccully@instructure.com\n",
      "Oliver Mevedev sdemo+OliverMevedev@instructure.com\n",
      "Mark Miles sdemo+MarkMiles@instructure.com\n",
      "Victoriz Munoz sdemo+VictoriaMunoz@instructure.com\n",
      "Gina Neal sdemo+GinaNeal@instructure.com\n",
      "Adebayo Owusu sdemo+aowusu@instructure.com\n",
      "Maria Pereira sdemo+mpereira@instructure.com\n",
      "Frances Phillips sdemo+FrancesPhillips@instructure.com\n",
      "Lindsay Rauber sdemo+LindsayRauber@instructure.com\n",
      "Matthew Robbins sdemo+MatthewRobbins@instructure.com\n",
      "Alex Roberts sdemo+aroberts@instructure.com\n",
      "Dominik Robin sdemo+drobin@instructure.com\n",
      "Jesse Saeger sdemo+jsaeger@instructure.com\n",
      "Isabelle Sartre sdemo+isartre@instructurecom\n",
      "Dwayne Schultz sdemo+DwayneSchultz@instructure.com\n",
      "Dom Serafin sdemo+dserafin@instructure.com\n",
      "Chandra Shaw sdemo+cshaw@instructure.com\n",
      "Christina Thomas sdemo+cthomas@instructure.com\n",
      "Alexis  Thorn sdemo+athorn@instructure.com\n",
      "Amy Wang sdemo+awang@instructure.com\n",
      "Lee Wang sdemo+lwang@instructure.com\n",
      "Amberly Wright sdemo+awright@instructure.com\n",
      "Erick Yates sdemo+ErickYates@instructure.com\n",
      "Err\n"
     ]
    }
   ],
   "source": [
    "for u, p in instructure_users:\n",
    "    print(p['name'], p['primary_email'])\n",
    "    try:\n",
    "        account.delete_user(u)\n",
    "    except:\n",
    "        print('Err')\n"
   ]
  },
  {
   "cell_type": "code",
   "execution_count": null,
   "id": "55217d93-dd7b-4700-912c-779add2d5f48",
   "metadata": {},
   "outputs": [],
   "source": []
  }
 ],
 "metadata": {
  "kernelspec": {
   "display_name": "Python 3 (ipykernel)",
   "language": "python",
   "name": "python3"
  },
  "language_info": {
   "codemirror_mode": {
    "name": "ipython",
    "version": 3
   },
   "file_extension": ".py",
   "mimetype": "text/x-python",
   "name": "python",
   "nbconvert_exporter": "python",
   "pygments_lexer": "ipython3",
   "version": "3.11.6"
  }
 },
 "nbformat": 4,
 "nbformat_minor": 5
}
