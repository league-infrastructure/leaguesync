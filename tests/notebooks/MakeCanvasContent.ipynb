{
 "cells": [
  {
   "cell_type": "code",
   "execution_count": 1,
   "id": "bfd0fbea-df3c-4c72-bfd7-28137dcff879",
   "metadata": {},
   "outputs": [],
   "source": [
    "# Import the Canvas class\n",
    "from canvasapi import Canvas\n",
    "from dotenv import load_dotenv, dotenv_values\n",
    "import os\n",
    "from pathlib import Path\n",
    "\n"
   ]
  },
  {
   "cell_type": "code",
   "execution_count": 2,
   "id": "a4d1748d-86c4-43f1-9592-9f1f1f9a97ec",
   "metadata": {},
   "outputs": [],
   "source": [
    "config = {\n",
    "    **dotenv_values(Path.home().joinpath('.league.env')),\n",
    "    **os.environ,  # override loaded values with environment variables\n",
    "}\n"
   ]
  },
  {
   "cell_type": "code",
   "execution_count": 3,
   "id": "e74bd8ed-23ca-4cda-9e76-f8e6c72db099",
   "metadata": {},
   "outputs": [
    {
     "data": {
      "text/plain": [
       "Account(_requester=<canvasapi.requester.Requester object at 0x10dac1b50>, id=1, name=The LEAGUE of Amazing Programmers, workflow_state=active, parent_account_id=None, root_account_id=None, uuid=l6vMi9MJPdLa8eTl7sJIZb45AqJWkohN73Bn64Ar, default_storage_quota_mb=500, default_user_storage_quota_mb=50, default_group_storage_quota_mb=50, default_time_zone=America/Denver, course_template_id=None)"
      ]
     },
     "execution_count": 3,
     "metadata": {},
     "output_type": "execute_result"
    }
   ],
   "source": [
    "# Canvas API URL\n",
    "API_URL = config['CANVAS_API_URL']\n",
    "# Canvas API key\n",
    "API_KEY = config['CANVAS_API_KEY']\n",
    "\n",
    "# Initialize a new Canvas object\n",
    "canvas = Canvas(API_URL, API_KEY)\n",
    "\n",
    "account = canvas.get_account(1) # The league main account\n",
    "account\n"
   ]
  },
  {
   "cell_type": "code",
   "execution_count": 4,
   "id": "84e73e22-daad-4619-a3ec-e85aee36e74b",
   "metadata": {},
   "outputs": [
    {
     "data": {
      "text/plain": [
       "AuthenticationProvider(_requester=<canvasapi.requester.Requester object at 0x10dac1b50>, id=105, auth_type=github, position=2, mfa_required=False, skip_internal_mfa=False, login_attribute=login, jit_provisioning=True, federated_attributes={'display_name': {'attribute': 'name', 'provisioning_only': False}, 'email': {'attribute': 'email', 'provisioning_only': False}, 'integration_id': {'attribute': 'id', 'provisioning_only': False}, 'sis_user_id': {'attribute': 'login', 'provisioning_only': False}}, account_id=1)"
      ]
     },
     "execution_count": 4,
     "metadata": {},
     "output_type": "execute_result"
    }
   ],
   "source": [
    "github_ap = next(a for a in account.get_authentication_providers() if a.auth_type == 'github')\n",
    "github_ap"
   ]
  },
  {
   "cell_type": "code",
   "execution_count": 5,
   "id": "7e1757e0-75f7-40d8-b11c-16a31ed2e076",
   "metadata": {},
   "outputs": [
    {
     "name": "stdout",
     "output_type": "stream",
     "text": [
      "97 Conditional Release API (97)\n",
      "96 Outcomes Service API (96)\n",
      "198 Quizzes.Next Service API (198)\n",
      "212 beckham.kunkler@jointheleague.org (212)\n",
      "213 brandon.hatamoto@jointheleague.org (213)\n",
      "214 bronte.kunkler@jointheleague.org (214)\n",
      "199 Sarah Cooper (199)\n",
      "215 daniel.goldstein@jointheleague.org (215)\n",
      "224 derekcao (224)\n",
      "217 dexter.haehnichen@jointheleague.org (217)\n",
      "246 eric.busboom@jointheleague.org (246)\n",
      "262 ericbusboom (262)\n",
      "207 Matt Freedman (207)\n",
      "201 Keith Groves (201)\n",
      "200 Liz Groves (200)\n",
      "218 jack.sturman@jointheleague.org (218)\n",
      "222 jessicaluo (222)\n",
      "223 jordanluo (223)\n",
      "253 JTiu11 (253)\n",
      "227 Keith (227)\n",
      "219 millan.kumar@jointheleague.org (219)\n",
      "204 Cody Sauer (204)\n",
      "211 Cody Saver (211)\n",
      "226 Colby Schexnayder (226)\n",
      "259 Jed Stumpf (259)\n",
      "208 Jackie Talbot (208)\n",
      "248  Joanne Tiu (248)\n"
     ]
    }
   ],
   "source": [
    "users = list(account.get_users())\n",
    "for u in users:\n",
    "    print(u.id, u)"
   ]
  },
  {
   "cell_type": "code",
   "execution_count": 7,
   "id": "31b6183f-b1c9-4ca3-87f9-908b8b46aa02",
   "metadata": {},
   "outputs": [
    {
     "name": "stdout",
     "output_type": "stream",
     "text": [
      "brandon.hatamoto@jointheleague.org (213)\n",
      "\n"
     ]
    },
    {
     "data": {
      "text/plain": [
       "[Login(_requester=<canvasapi.requester.Requester object at 0x10dac1b50>, id=214, user_id=213, account_id=1, workflow_state=active, unique_id=brandon.hatamoto@jointheleague.org, created_at=2022-01-28T03:13:38Z, created_at_date=2022-01-28 03:13:38+00:00, sis_user_id=None, integration_id=None, authentication_provider_id=None, declared_user_type=None)]"
      ]
     },
     "execution_count": 7,
     "metadata": {},
     "output_type": "execute_result"
    }
   ],
   "source": [
    "u = canvas.get_user(213)\n",
    "print(u)\n",
    "print()\n",
    "list(u.get_user_logins())"
   ]
  },
  {
   "cell_type": "code",
   "execution_count": 14,
   "id": "6de1f801-273f-4351-970e-33394d22e0ba",
   "metadata": {},
   "outputs": [],
   "source": [
    "for c in account.get_courses():\n",
    "    if c.course_code.startswith('java-l2'):\n",
    "        for a in c.get_assignments():\n",
    "            if a.description: # and 'iframe' in a.description:\n",
    "                #print(a.description)\n",
    "                break\n",
    "      "
   ]
  },
  {
   "cell_type": "code",
   "execution_count": 21,
   "id": "d6e38b01-7cfc-4067-9628-46a934a1d44b",
   "metadata": {},
   "outputs": [
    {
     "data": {
      "text/plain": [
       "(511,\n",
       " 'Van Gogh Painter',\n",
       " 'https://jointheleague.instructure.com/courses/129/assignments/511')"
      ]
     },
     "execution_count": 21,
     "metadata": {},
     "output_type": "execute_result"
    }
   ],
   "source": [
    "a.id, a.name, a.html_url"
   ]
  },
  {
   "cell_type": "code",
   "execution_count": 20,
   "id": "b6dadc28-2faa-4cd9-95d5-d95226ec0c39",
   "metadata": {},
   "outputs": [
    {
     "data": {
      "text/plain": [
       "['__class__',\n",
       " '__delattr__',\n",
       " '__dict__',\n",
       " '__dir__',\n",
       " '__doc__',\n",
       " '__eq__',\n",
       " '__format__',\n",
       " '__ge__',\n",
       " '__getattribute__',\n",
       " '__getstate__',\n",
       " '__gt__',\n",
       " '__hash__',\n",
       " '__init__',\n",
       " '__init_subclass__',\n",
       " '__le__',\n",
       " '__lt__',\n",
       " '__module__',\n",
       " '__ne__',\n",
       " '__new__',\n",
       " '__reduce__',\n",
       " '__reduce_ex__',\n",
       " '__repr__',\n",
       " '__setattr__',\n",
       " '__sizeof__',\n",
       " '__str__',\n",
       " '__subclasshook__',\n",
       " '__weakref__',\n",
       " '_requester',\n",
       " 'allowed_attempts',\n",
       " 'annotatable_attachment_id',\n",
       " 'anonymize_students',\n",
       " 'anonymous_grading',\n",
       " 'anonymous_instructor_annotations',\n",
       " 'anonymous_peer_reviews',\n",
       " 'assignment_group_id',\n",
       " 'automatic_peer_reviews',\n",
       " 'can_duplicate',\n",
       " 'course_id',\n",
       " 'create_override',\n",
       " 'created_at',\n",
       " 'created_at_date',\n",
       " 'delete',\n",
       " 'description',\n",
       " 'due_at',\n",
       " 'due_date_required',\n",
       " 'edit',\n",
       " 'final_grader_id',\n",
       " 'get_grade_change_events',\n",
       " 'get_gradeable_students',\n",
       " 'get_override',\n",
       " 'get_overrides',\n",
       " 'get_peer_reviews',\n",
       " 'get_provisional_grades_status',\n",
       " 'get_students_selected_for_moderation',\n",
       " 'get_submission',\n",
       " 'get_submissions',\n",
       " 'grade_group_students_individually',\n",
       " 'graded_submissions_exist',\n",
       " 'grader_comments_visible_to_graders',\n",
       " 'grader_count',\n",
       " 'grader_names_visible_to_final_grader',\n",
       " 'graders_anonymous_to_graders',\n",
       " 'grading_standard_id',\n",
       " 'grading_type',\n",
       " 'group_category_id',\n",
       " 'has_overrides',\n",
       " 'has_submitted_submissions',\n",
       " 'hide_in_gradebook',\n",
       " 'html_url',\n",
       " 'id',\n",
       " 'important_dates',\n",
       " 'in_closed_grading_period',\n",
       " 'integration_data',\n",
       " 'integration_id',\n",
       " 'intra_group_peer_reviews',\n",
       " 'is_quiz_assignment',\n",
       " 'lock_at',\n",
       " 'locked_for_user',\n",
       " 'lti_context_id',\n",
       " 'max_name_length',\n",
       " 'moderated_grading',\n",
       " 'muted',\n",
       " 'name',\n",
       " 'needs_grading_count',\n",
       " 'omit_from_final_grade',\n",
       " 'only_visible_to_overrides',\n",
       " 'original_assignment_id',\n",
       " 'original_assignment_name',\n",
       " 'original_course_id',\n",
       " 'original_lti_resource_link_id',\n",
       " 'original_quiz_id',\n",
       " 'peer_reviews',\n",
       " 'points_possible',\n",
       " 'position',\n",
       " 'post_manually',\n",
       " 'post_to_sis',\n",
       " 'publish_provisional_grades',\n",
       " 'published',\n",
       " 'require_lockdown_browser',\n",
       " 'restrict_quantitative_data',\n",
       " 'secure_params',\n",
       " 'select_students_for_moderation',\n",
       " 'selected_provisional_grade',\n",
       " 'set_attributes',\n",
       " 'set_extensions',\n",
       " 'show_provisonal_grades_for_student',\n",
       " 'sis_assignment_id',\n",
       " 'submission_types',\n",
       " 'submissions_bulk_update',\n",
       " 'submissions_download_url',\n",
       " 'submit',\n",
       " 'unlock_at',\n",
       " 'unpublishable',\n",
       " 'updated_at',\n",
       " 'updated_at_date',\n",
       " 'upload_to_submission',\n",
       " 'workflow_state']"
      ]
     },
     "execution_count": 20,
     "metadata": {},
     "output_type": "execute_result"
    }
   ],
   "source": [
    "dir(a)"
   ]
  },
  {
   "cell_type": "code",
   "execution_count": null,
   "id": "057be334-f42c-4da4-afd0-badd0a9e1b88",
   "metadata": {},
   "outputs": [],
   "source": [
    "for c in account.get_courses():\n",
    "    if c.course_code.startswith('java-l'):\n",
    "        for p in c.get_pages():\n",
    "            body = c.get_page(p.url).body\n",
    "            if 'iframe' in body:\n",
    "                print(body)"
   ]
  },
  {
   "cell_type": "code",
   "execution_count": 46,
   "id": "212e4d04-a65e-4234-9e32-7f4e6336e261",
   "metadata": {},
   "outputs": [],
   "source": [
    "instructure_users = []\n",
    "for user in  account.get_users():\n",
    "    prfl = user.get_profile()\n",
    "    if 'instructure' in (prfl['primary_email'] or \"\"):\n",
    "        instructure_users.append( (user, prfl))\n"
   ]
  },
  {
   "cell_type": "code",
   "execution_count": 52,
   "id": "455cb1f5-1e2e-4469-af0a-0317fcd2e634",
   "metadata": {},
   "outputs": [
    {
     "name": "stdout",
     "output_type": "stream",
     "text": [
      "Mattie Fernandez sdemo+MattieFernandez@instructure.com\n",
      "Taylor Hazzard sdemo+thazzard@instructure.com\n",
      "Viola Ingram sdemo+ViolaIngram@instructure.com\n",
      "Aaron Jurel sdemo+ajurel@instructure.com\n",
      "George Kasabian sdemo+gkasabian@instructure.com\n",
      "Jonathan Kim sdemo+JonathanKim@instructure.com\n",
      "Jin Kwon sdemo+jkwon@instructure.com\n",
      "Megan Lange sdemo+mlange@instructure.com\n",
      "Beatrice Lund sdemo+blund@instructure.com\n",
      "Kristina Lundsford sdemo+KristinaLundsford@instructure.com\n",
      "Greg Lyons glyons+admin@instructure.com\n",
      "Tasha Mandachit sdemo+TashaMandachit@instructure.com\n",
      "Monica Martinez sdemo+MonicaMartinez@instructure.com\n",
      "Greg McCully sdemo+gmccully@instructure.com\n",
      "Oliver Mevedev sdemo+OliverMevedev@instructure.com\n",
      "Mark Miles sdemo+MarkMiles@instructure.com\n",
      "Victoriz Munoz sdemo+VictoriaMunoz@instructure.com\n",
      "Gina Neal sdemo+GinaNeal@instructure.com\n",
      "Adebayo Owusu sdemo+aowusu@instructure.com\n",
      "Maria Pereira sdemo+mpereira@instructure.com\n",
      "Frances Phillips sdemo+FrancesPhillips@instructure.com\n",
      "Lindsay Rauber sdemo+LindsayRauber@instructure.com\n",
      "Matthew Robbins sdemo+MatthewRobbins@instructure.com\n",
      "Alex Roberts sdemo+aroberts@instructure.com\n",
      "Dominik Robin sdemo+drobin@instructure.com\n",
      "Jesse Saeger sdemo+jsaeger@instructure.com\n",
      "Isabelle Sartre sdemo+isartre@instructurecom\n",
      "Dwayne Schultz sdemo+DwayneSchultz@instructure.com\n",
      "Dom Serafin sdemo+dserafin@instructure.com\n",
      "Chandra Shaw sdemo+cshaw@instructure.com\n",
      "Christina Thomas sdemo+cthomas@instructure.com\n",
      "Alexis  Thorn sdemo+athorn@instructure.com\n",
      "Amy Wang sdemo+awang@instructure.com\n",
      "Lee Wang sdemo+lwang@instructure.com\n",
      "Amberly Wright sdemo+awright@instructure.com\n",
      "Erick Yates sdemo+ErickYates@instructure.com\n",
      "Err\n"
     ]
    }
   ],
   "source": [
    "for u, p in instructure_users:\n",
    "    print(p['name'], p['primary_email'])\n",
    "    try:\n",
    "        account.delete_user(u)\n",
    "    except:\n",
    "        print('Err')\n"
   ]
  },
  {
   "cell_type": "code",
   "execution_count": null,
   "id": "55217d93-dd7b-4700-912c-779add2d5f48",
   "metadata": {},
   "outputs": [],
   "source": []
  }
 ],
 "metadata": {
  "kernelspec": {
   "display_name": "Python 3 (ipykernel)",
   "language": "python",
   "name": "python3"
  },
  "language_info": {
   "codemirror_mode": {
    "name": "ipython",
    "version": 3
   },
   "file_extension": ".py",
   "mimetype": "text/x-python",
   "name": "python",
   "nbconvert_exporter": "python",
   "pygments_lexer": "ipython3",
   "version": "3.11.6"
  }
 },
 "nbformat": 4,
 "nbformat_minor": 5
}
