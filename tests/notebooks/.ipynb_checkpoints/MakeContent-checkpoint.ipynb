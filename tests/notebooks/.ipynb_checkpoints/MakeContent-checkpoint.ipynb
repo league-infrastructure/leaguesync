{
 "cells": [
  {
   "cell_type": "code",
   "execution_count": 1,
   "id": "bfd0fbea-df3c-4c72-bfd7-28137dcff879",
   "metadata": {},
   "outputs": [],
   "source": [
    "# Import the Canvas class\n",
    "from canvasapi import Canvas\n",
    "from dotenv import load_dotenv, dotenv_values\n",
    "import os\n",
    "from pathlib import Path\n",
    "\n"
   ]
  },
  {
   "cell_type": "code",
   "execution_count": 2,
   "id": "a4d1748d-86c4-43f1-9592-9f1f1f9a97ec",
   "metadata": {},
   "outputs": [],
   "source": [
    "config = {\n",
    "    **dotenv_values(Path.home().joinpath('.zshenv')),\n",
    "    **os.environ,  # override loaded values with environment variables\n",
    "}\n"
   ]
  },
  {
   "cell_type": "code",
   "execution_count": 3,
   "id": "e74bd8ed-23ca-4cda-9e76-f8e6c72db099",
   "metadata": {},
   "outputs": [
    {
     "data": {
      "text/plain": [
       "Account(_requester=<canvasapi.requester.Requester object at 0x1112a0890>, id=1, name=The LEAGUE of Amazing Programmers, workflow_state=active, parent_account_id=None, root_account_id=None, uuid=l6vMi9MJPdLa8eTl7sJIZb45AqJWkohN73Bn64Ar, default_storage_quota_mb=500, default_user_storage_quota_mb=50, default_group_storage_quota_mb=50, default_time_zone=America/Denver, course_template_id=None)"
      ]
     },
     "execution_count": 3,
     "metadata": {},
     "output_type": "execute_result"
    }
   ],
   "source": [
    "# Canvas API URL\n",
    "API_URL = \"https://jointheleague.instructure.com\"\n",
    "# Canvas API key\n",
    "API_KEY = config['CANVAS_API_KEY']\n",
    "\n",
    "# Initialize a new Canvas object\n",
    "canvas = Canvas(API_URL, API_KEY)\n",
    "\n",
    "account = canvas.get_account(1) # The league main account\n",
    "account\n"
   ]
  },
  {
   "cell_type": "code",
   "execution_count": 10,
   "id": "7e1757e0-75f7-40d8-b11c-16a31ed2e076",
   "metadata": {},
   "outputs": [
    {
     "name": "stdout",
     "output_type": "stream",
     "text": [
      "Conditional Release API (97)\n",
      "Outcomes Service API (96)\n",
      "Quizzes.Next Service API (198)\n",
      "beckham.kunkler@jointheleague.org (212)\n",
      "brandon.hatamoto@jointheleague.org (213)\n",
      "bronte.kunkler@jointheleague.org (214)\n",
      "Max Busboom (252)\n",
      "Sarah Cooper (199)\n",
      "daniel.goldstein@jointheleague.org (215)\n",
      "derekcao (224)\n",
      "dexter.haehnichen@jointheleague.org (217)\n",
      "eric.busboom@jointheleague.org (246)\n",
      "ericbusboom (251)\n",
      "Matt Freedman (207)\n",
      "Keith Groves (201)\n",
      "Liz Groves (200)\n",
      "jack.sturman@jointheleague.org (218)\n",
      "jessicaluo (222)\n",
      "jordanluo (223)\n",
      "JTiu11 (253)\n",
      "Keith (227)\n",
      "millan.kumar@jointheleague.org (219)\n",
      "Cody Sauer (204)\n",
      "Cody Saver (211)\n",
      "Colby Schexnayder (226)\n",
      "Jackie Talbot (208)\n",
      " Joanne Tiu (248)\n"
     ]
    }
   ],
   "source": [
    "users = list(account.get_users())\n",
    "for u in users:\n",
    "    print(u)"
   ]
  },
  {
   "cell_type": "code",
   "execution_count": 16,
   "id": "6de1f801-273f-4351-970e-33394d22e0ba",
   "metadata": {},
   "outputs": [],
   "source": [
    "for c in account.get_courses():\n",
    "    if c.course_code.startswith('java-l'):\n",
    "        for a in c.get_assignments():\n",
    "            if a.description: # and 'iframe' in a.description:\n",
    "                pass #print(a.description)\n",
    "      "
   ]
  },
  {
   "cell_type": "code",
   "execution_count": null,
   "id": "057be334-f42c-4da4-afd0-badd0a9e1b88",
   "metadata": {},
   "outputs": [],
   "source": [
    "for c in account.get_courses():\n",
    "    if c.course_code.startswith('java-l'):\n",
    "        for p in c.get_pages():\n",
    "            body = c.get_page(p.url).body\n",
    "            if 'iframe' in body:\n",
    "                print(body)"
   ]
  },
  {
   "cell_type": "code",
   "execution_count": 46,
   "id": "212e4d04-a65e-4234-9e32-7f4e6336e261",
   "metadata": {},
   "outputs": [],
   "source": [
    "instructure_users = []\n",
    "for user in  account.get_users():\n",
    "    prfl = user.get_profile()\n",
    "    if 'instructure' in (prfl['primary_email'] or \"\"):\n",
    "        instructure_users.append( (user, prfl))\n"
   ]
  },
  {
   "cell_type": "code",
   "execution_count": 52,
   "id": "455cb1f5-1e2e-4469-af0a-0317fcd2e634",
   "metadata": {},
   "outputs": [
    {
     "name": "stdout",
     "output_type": "stream",
     "text": [
      "Mattie Fernandez sdemo+MattieFernandez@instructure.com\n",
      "Taylor Hazzard sdemo+thazzard@instructure.com\n",
      "Viola Ingram sdemo+ViolaIngram@instructure.com\n",
      "Aaron Jurel sdemo+ajurel@instructure.com\n",
      "George Kasabian sdemo+gkasabian@instructure.com\n",
      "Jonathan Kim sdemo+JonathanKim@instructure.com\n",
      "Jin Kwon sdemo+jkwon@instructure.com\n",
      "Megan Lange sdemo+mlange@instructure.com\n",
      "Beatrice Lund sdemo+blund@instructure.com\n",
      "Kristina Lundsford sdemo+KristinaLundsford@instructure.com\n",
      "Greg Lyons glyons+admin@instructure.com\n",
      "Tasha Mandachit sdemo+TashaMandachit@instructure.com\n",
      "Monica Martinez sdemo+MonicaMartinez@instructure.com\n",
      "Greg McCully sdemo+gmccully@instructure.com\n",
      "Oliver Mevedev sdemo+OliverMevedev@instructure.com\n",
      "Mark Miles sdemo+MarkMiles@instructure.com\n",
      "Victoriz Munoz sdemo+VictoriaMunoz@instructure.com\n",
      "Gina Neal sdemo+GinaNeal@instructure.com\n",
      "Adebayo Owusu sdemo+aowusu@instructure.com\n",
      "Maria Pereira sdemo+mpereira@instructure.com\n",
      "Frances Phillips sdemo+FrancesPhillips@instructure.com\n",
      "Lindsay Rauber sdemo+LindsayRauber@instructure.com\n",
      "Matthew Robbins sdemo+MatthewRobbins@instructure.com\n",
      "Alex Roberts sdemo+aroberts@instructure.com\n",
      "Dominik Robin sdemo+drobin@instructure.com\n",
      "Jesse Saeger sdemo+jsaeger@instructure.com\n",
      "Isabelle Sartre sdemo+isartre@instructurecom\n",
      "Dwayne Schultz sdemo+DwayneSchultz@instructure.com\n",
      "Dom Serafin sdemo+dserafin@instructure.com\n",
      "Chandra Shaw sdemo+cshaw@instructure.com\n",
      "Christina Thomas sdemo+cthomas@instructure.com\n",
      "Alexis  Thorn sdemo+athorn@instructure.com\n",
      "Amy Wang sdemo+awang@instructure.com\n",
      "Lee Wang sdemo+lwang@instructure.com\n",
      "Amberly Wright sdemo+awright@instructure.com\n",
      "Erick Yates sdemo+ErickYates@instructure.com\n",
      "Err\n"
     ]
    }
   ],
   "source": [
    "for u, p in instructure_users:\n",
    "    print(p['name'], p['primary_email'])\n",
    "    try:\n",
    "        account.delete_user(u)\n",
    "    except:\n",
    "        print('Err')\n"
   ]
  },
  {
   "cell_type": "code",
   "execution_count": null,
   "id": "55217d93-dd7b-4700-912c-779add2d5f48",
   "metadata": {},
   "outputs": [],
   "source": []
  }
 ],
 "metadata": {
  "kernelspec": {
   "display_name": "Python 3 (ipykernel)",
   "language": "python",
   "name": "python3"
  },
  "language_info": {
   "codemirror_mode": {
    "name": "ipython",
    "version": 3
   },
   "file_extension": ".py",
   "mimetype": "text/x-python",
   "name": "python",
   "nbconvert_exporter": "python",
   "pygments_lexer": "ipython3",
   "version": "3.11.6"
  }
 },
 "nbformat": 4,
 "nbformat_minor": 5
}
